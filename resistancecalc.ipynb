{
 "cells": [
  {
   "cell_type": "markdown",
   "metadata": {},
   "source": [
    "# Q. It is often thought that components have to have a large resistance in order for them to heat up. Why do kettle elements in fact have low resistance?\n",
    "\n",
    "This is a fantastic question* as it addresses an everyday misconception, can be directly applied to a number of examples around us and touches on nice bits of physics."
   ]
  },
  {
   "cell_type": "markdown",
   "metadata": {},
   "source": [
    "## microscopic understanding of heat\n",
    "Firstly, let's think why do things get hot when in a circuit? When we have a circuit, a current (which is made up of electrons) can flow through a material (which is made up of non-moving ions -> i.e. protons in a nucleus and other bound electrons). As the electrons move around the circuit, they can transfer some of their kinetic energy to ions. These ions are not free to move and can only vibrate on the spot – this increase in vibrational energy is heat!"
   ]
  },
  {
   "cell_type": "markdown",
   "metadata": {},
   "source": [
    "## now, back to the problem...\n",
    "From our microscopic understanding, we've learnt that a flowing current will heat an object up. This means that if we want to generate lots of heat, we should have a large current. "
   ]
  },
  {
   "cell_type": "markdown",
   "metadata": {},
   "source": [
    "## How do we get a large current (and therefore large heating)?\n",
    "\n",
    "<center> <img src=\"files/circuit1.png\" /> </center>\n",
    "\n",
    "\n",
    "We will think about the simple circuit above (made of a cell connected to by wires to a resistor). Here the resistor plays the role of the heating element and this is a typical setup for a heating element.\n",
    "\n",
    "It is important to realise that if we have a low resistance this will give us a large current (and so large heating of the resistor). We can understand this through Ohm's law and apply this to our circuit: $V=IR$, where $V$ is the voltage across resistor, $I$ is the current through the resistor and $R$ the resistance of the element. This tells us for a given supplied voltage, the current is inversely proportional to the resistance: a small resistance gives a large current (and hence lots of heating).\n",
    "\n",
    "We can summarise our answer as a number of key points:\n",
    "* a current causes heating in a material as electrons transfer their energy to the vibrational energy of ions (which is heat).\n",
    "* to have an effective heating element that generates lots of heat, we therefore want a setup with a large current flowing.\n",
    "* to have a large current flowing and lots of heating, the heating element should have a small resistance.\n",
    "\n",
    "We can also extend this answer to explain the properties of other heating elements, such as kettles, heaters, hair dryers, toasters,  hair straighteners and many more systems!\n"
   ]
  },
  {
   "cell_type": "markdown",
   "metadata": {},
   "source": [
    "\n"
   ]
  },
  {
   "cell_type": "markdown",
   "metadata": {},
   "source": [
    " \\* I was originally asked this question by the Institute of Physics during an interview. Thanks for the great idea!"
   ]
  }
 ],
 "metadata": {
  "kernelspec": {
   "display_name": "Python 2",
   "language": "python",
   "name": "python2"
  },
  "language_info": {
   "codemirror_mode": {
    "name": "ipython",
    "version": 2
   },
   "file_extension": ".py",
   "mimetype": "text/x-python",
   "name": "python",
   "nbconvert_exporter": "python",
   "pygments_lexer": "ipython2",
   "version": "2.7.6"
  }
 },
 "nbformat": 4,
 "nbformat_minor": 0
}
